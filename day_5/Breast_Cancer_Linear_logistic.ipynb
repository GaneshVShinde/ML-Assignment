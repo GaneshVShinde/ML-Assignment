{
 "cells": [
  {
   "cell_type": "markdown",
   "metadata": {},
   "source": [
    "### Importing Python Libraries"
   ]
  },
  {
   "cell_type": "markdown",
   "metadata": {},
   "source": [
    "# <span style=\"color:Blue\">Why Linear Regression cannot be used for Classification?"
   ]
  },
  {
   "cell_type": "code",
   "execution_count": 16,
   "metadata": {},
   "outputs": [],
   "source": [
    "import pandas as pd\n",
    "import numpy as np\n",
    "from sklearn import datasets\n",
    "import statsmodels.api as sm\n",
    "from sklearn.model_selection import train_test_split\n",
    "from sklearn.preprocessing import StandardScaler\n",
    "from sklearn.decomposition import PCA\n",
    "from sklearn.preprocessing import LabelEncoder\n",
    "import matplotlib.pyplot as plt\n",
    "from sklearn.linear_model import LogisticRegression"
   ]
  },
  {
   "cell_type": "markdown",
   "metadata": {},
   "source": [
    "### Showing Sample Data in One Dimension (univariate)"
   ]
  },
  {
   "cell_type": "code",
   "execution_count": 17,
   "metadata": {},
   "outputs": [
    {
     "data": {
      "text/html": [
       "<div>\n",
       "<style scoped>\n",
       "    .dataframe tbody tr th:only-of-type {\n",
       "        vertical-align: middle;\n",
       "    }\n",
       "\n",
       "    .dataframe tbody tr th {\n",
       "        vertical-align: top;\n",
       "    }\n",
       "\n",
       "    .dataframe thead th {\n",
       "        text-align: right;\n",
       "    }\n",
       "</style>\n",
       "<table border=\"1\" class=\"dataframe\">\n",
       "  <thead>\n",
       "    <tr style=\"text-align: right;\">\n",
       "      <th></th>\n",
       "      <th>Y</th>\n",
       "      <th>Parameter</th>\n",
       "    </tr>\n",
       "  </thead>\n",
       "  <tbody>\n",
       "    <tr>\n",
       "      <th>0</th>\n",
       "      <td>0</td>\n",
       "      <td>-301.0</td>\n",
       "    </tr>\n",
       "    <tr>\n",
       "      <th>1</th>\n",
       "      <td>0</td>\n",
       "      <td>-59.0</td>\n",
       "    </tr>\n",
       "    <tr>\n",
       "      <th>2</th>\n",
       "      <td>1</td>\n",
       "      <td>91.0</td>\n",
       "    </tr>\n",
       "    <tr>\n",
       "      <th>3</th>\n",
       "      <td>1</td>\n",
       "      <td>98.0</td>\n",
       "    </tr>\n",
       "    <tr>\n",
       "      <th>4</th>\n",
       "      <td>0</td>\n",
       "      <td>-635.0</td>\n",
       "    </tr>\n",
       "    <tr>\n",
       "      <th>5</th>\n",
       "      <td>0</td>\n",
       "      <td>-427.0</td>\n",
       "    </tr>\n",
       "    <tr>\n",
       "      <th>6</th>\n",
       "      <td>0</td>\n",
       "      <td>-91.0</td>\n",
       "    </tr>\n",
       "    <tr>\n",
       "      <th>7</th>\n",
       "      <td>0</td>\n",
       "      <td>-359.0</td>\n",
       "    </tr>\n",
       "    <tr>\n",
       "      <th>8</th>\n",
       "      <td>0</td>\n",
       "      <td>-441.0</td>\n",
       "    </tr>\n",
       "    <tr>\n",
       "      <th>9</th>\n",
       "      <td>0</td>\n",
       "      <td>-444.0</td>\n",
       "    </tr>\n",
       "  </tbody>\n",
       "</table>\n",
       "</div>"
      ],
      "text/plain": [
       "   Y  Parameter\n",
       "0  0     -301.0\n",
       "1  0      -59.0\n",
       "2  1       91.0\n",
       "3  1       98.0\n",
       "4  0     -635.0\n",
       "5  0     -427.0\n",
       "6  0      -91.0\n",
       "7  0     -359.0\n",
       "8  0     -441.0\n",
       "9  0     -444.0"
      ]
     },
     "execution_count": 17,
     "metadata": {},
     "output_type": "execute_result"
    }
   ],
   "source": [
    "data=pd.read_csv(\"a.csv\",header=None)\n",
    "data=data.drop(0,axis=1) #dropping index names\n",
    "target=data.iloc[:,0]\n",
    "X=data.drop(1,axis=1)\n",
    "\n",
    "lb_make = LabelEncoder()\n",
    "targ=lb_make.fit_transform(target)\n",
    "#y_tst=lb_make.fit_transform(y_test)\n",
    "#Applying PCA reducing to one variable\n",
    "pca = PCA(n_components=1)\n",
    "principalComponents = pca.fit_transform(X)\n",
    "principalDf= pd.DataFrame(data = principalComponents.round(), columns = ['principal component 1'])\n",
    "\n",
    "#locs, labels = xticks()\n",
    "X_train, X_test, y_train, y_test = train_test_split(principalDf,targ, test_size=0.30,random_state=101)\n",
    "df=pd.DataFrame({})\n",
    "df['Y']=pd.Series(y_train).reset_index(drop=True)\n",
    "df['Parameter']=X_train.reset_index(drop=True)\n",
    "df.head(10)"
   ]
  },
  {
   "cell_type": "markdown",
   "metadata": {},
   "source": [
    "#### * 0 Denotes No Breast Cancer Detected\n",
    "#### * 1 Denotes Harmful breast Cancer Detected\n",
    "#### * Parameter value is the predictor for Breast Cancer ~ y=f(x), x is Predictor or Variable or feature or attribute"
   ]
  },
  {
   "cell_type": "markdown",
   "metadata": {},
   "source": [
    "### <span style=\"color:Orange\">Plot of The Breast Cancer Data </span>"
   ]
  },
  {
   "cell_type": "code",
   "execution_count": 18,
   "metadata": {
    "scrolled": true
   },
   "outputs": [
    {
     "data": {
      "image/png": "[encoded data removed]",
      "text/plain": [
       "<matplotlib.figure.Figure at 0x7f997e84b668>"
      ]
     },
     "metadata": {},
     "output_type": "display_data"
    }
   ],
   "source": [
    "\n",
    "plt.scatter(principalDf,targ,s=1,c=np.where(targ==0,'orange','skyblue'))\n",
    "#plt.scatter(principalDf.iloc[np.where(target=='B')[0]],target[target=='B'],s=1,c='blue')\n",
    "#plt.xlabel('Variable')\n",
    "plt.ylabel(\"Target / Response\")\n",
    "plt.xticks([])\n",
    "\n",
    "plt.show()\n"
   ]
  },
  {
   "cell_type": "markdown",
   "metadata": {},
   "source": [
    "## <span style=\"color:Blue\">Fitting Least Squares on the Train Data"
   ]
  },
  {
   "cell_type": "code",
   "execution_count": 19,
   "metadata": {},
   "outputs": [
    {
     "data": {
      "text/html": [
       "<div>\n",
       "<style scoped>\n",
       "    .dataframe tbody tr th:only-of-type {\n",
       "        vertical-align: middle;\n",
       "    }\n",
       "\n",
       "    .dataframe tbody tr th {\n",
       "        vertical-align: top;\n",
       "    }\n",
       "\n",
       "    .dataframe thead th {\n",
       "        text-align: right;\n",
       "    }\n",
       "</style>\n",
       "<table border=\"1\" class=\"dataframe\">\n",
       "  <thead>\n",
       "    <tr style=\"text-align: right;\">\n",
       "      <th></th>\n",
       "      <th>Predictions</th>\n",
       "      <th>Test Attributes / X</th>\n",
       "    </tr>\n",
       "  </thead>\n",
       "  <tbody>\n",
       "    <tr>\n",
       "      <th>0</th>\n",
       "      <td>-247526.260274</td>\n",
       "      <td>-387.0</td>\n",
       "    </tr>\n",
       "    <tr>\n",
       "      <th>1</th>\n",
       "      <td>-86346.369863</td>\n",
       "      <td>-135.0</td>\n",
       "    </tr>\n",
       "    <tr>\n",
       "      <th>2</th>\n",
       "      <td>-200195.657534</td>\n",
       "      <td>-313.0</td>\n",
       "    </tr>\n",
       "    <tr>\n",
       "      <th>3</th>\n",
       "      <td>246247.054795</td>\n",
       "      <td>385.0</td>\n",
       "    </tr>\n",
       "    <tr>\n",
       "      <th>4</th>\n",
       "      <td>-259039.109589</td>\n",
       "      <td>-405.0</td>\n",
       "    </tr>\n",
       "    <tr>\n",
       "      <th>5</th>\n",
       "      <td>-144550.219178</td>\n",
       "      <td>-226.0</td>\n",
       "    </tr>\n",
       "    <tr>\n",
       "      <th>6</th>\n",
       "      <td>-468189.205479</td>\n",
       "      <td>-732.0</td>\n",
       "    </tr>\n",
       "    <tr>\n",
       "      <th>7</th>\n",
       "      <td>948530.863014</td>\n",
       "      <td>1483.0</td>\n",
       "    </tr>\n",
       "    <tr>\n",
       "      <th>8</th>\n",
       "      <td>-202754.068493</td>\n",
       "      <td>-317.0</td>\n",
       "    </tr>\n",
       "    <tr>\n",
       "      <th>9</th>\n",
       "      <td>-335151.835616</td>\n",
       "      <td>-524.0</td>\n",
       "    </tr>\n",
       "  </tbody>\n",
       "</table>\n",
       "</div>"
      ],
      "text/plain": [
       "     Predictions  Test Attributes / X\n",
       "0 -247526.260274               -387.0\n",
       "1  -86346.369863               -135.0\n",
       "2 -200195.657534               -313.0\n",
       "3  246247.054795                385.0\n",
       "4 -259039.109589               -405.0\n",
       "5 -144550.219178               -226.0\n",
       "6 -468189.205479               -732.0\n",
       "7  948530.863014               1483.0\n",
       "8 -202754.068493               -317.0\n",
       "9 -335151.835616               -524.0"
      ]
     },
     "execution_count": 19,
     "metadata": {},
     "output_type": "execute_result"
    }
   ],
   "source": [
    "model=sm.OLS(X_train, y_train).fit()\n",
    "pred=model.predict(X_test)\n",
    "#print(class(X_test))\n",
    "df1=pd.DataFrame({})\n",
    "#df\n",
    "#df['Test Attributes / X']=pred.reset_index(drop=True)\n",
    "df1['Predictions']=pd.Series(pred).reset_index(drop=True)\n",
    "df1['Test Attributes / X']=X_test.reset_index(drop=True)\n",
    "df1.head(10)"
   ]
  },
  {
   "cell_type": "code",
   "execution_count": 20,
   "metadata": {},
   "outputs": [
    {
     "data": {
      "image/png": "[encoded data removed]",
      "text/plain": [
       "<matplotlib.figure.Figure at 0x7f997e7f7780>"
      ]
     },
     "metadata": {},
     "output_type": "display_data"
    }
   ],
   "source": [
    "#print(pred)\n",
    "plt.scatter(X_test,pred,s=2,c=np.where(pred<0,\"orange\",\"skyblue\"))\n",
    "#plt.xlabel(\"Variable\")\n",
    "plt.legend((\"No Cancer\",\"With Cancer\"),loc='upper right')\n",
    "plt.ylabel(\"Predictions\")\n",
    "plt.show()\n",
    "\n",
    "#print(classification_report(y_tst,pred))"
   ]
  },
  {
   "cell_type": "markdown",
   "metadata": {},
   "source": [
    "### <span style=\"color:Orange\">Individuals without Cancer </span>\n",
    "### <span style=\"color:skyblue\">Individuals with Cancer </span>"
   ]
  },
  {
   "cell_type": "markdown",
   "metadata": {},
   "source": [
    "## <span style=\"color:darkgreen\"> Trying the same test Data with Logistic regression "
   ]
  },
  {
   "cell_type": "code",
   "execution_count": 21,
   "metadata": {},
   "outputs": [
    {
     "data": {
      "image/png": "[encoded data removed]",
      "text/plain": [
       "<matplotlib.figure.Figure at 0x7f997e777828>"
      ]
     },
     "metadata": {},
     "output_type": "display_data"
    }
   ],
   "source": [
    "logreg = LogisticRegression()\n",
    "logreg.fit(X_train,y_train)\n",
    "pred=logreg.predict(X_test)\n",
    "#print(pred)\n",
    "plt.scatter(X_test,pred,s=2,c=np.where(pred<=0,\"orange\",\"skyblue\"))\n",
    "#plt.xlabel(\"Variable\")\n",
    "plt.legend((\"No Cancer\",\"With Cancer\"),loc='upper right')\n",
    "plt.ylabel(\"Predictions\")\n",
    "plt.show()\n",
    "\n",
    "#print(classification_report(y_tst,pred))\n",
    "\n",
    "#print(classification_report(y_test,pred))"
   ]
  },
  {
   "cell_type": "markdown",
   "metadata": {},
   "source": [
    "### <span style=\"color:Orange\">Individuals without Cancer </span>\n",
    "### <span style=\"color:skyblue\">Individuals with Cancer </span>"
   ]
  }
 ],
 "metadata": {
  "kernelspec": {
   "display_name": "Python 3",
   "language": "python",
   "name": "python3"
  },
  "language_info": {
   "codemirror_mode": {
    "name": "ipython",
    "version": 3
   },
   "file_extension": ".py",
   "mimetype": "text/x-python",
   "name": "python",
   "nbconvert_exporter": "python",
   "pygments_lexer": "ipython3",
   "version": "3.6.3"
  }
 },
 "nbformat": 4,
 "nbformat_minor": 2
}
